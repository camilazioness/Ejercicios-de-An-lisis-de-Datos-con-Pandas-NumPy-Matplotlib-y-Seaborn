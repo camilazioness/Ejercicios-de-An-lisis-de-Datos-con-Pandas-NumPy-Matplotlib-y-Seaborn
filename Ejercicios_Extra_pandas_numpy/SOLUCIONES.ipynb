{
 "cells": [
  {
   "cell_type": "markdown",
   "metadata": {},
   "source": [
    "# Ejercicios de NumPy y Pandas 📊📈\n",
    "\n",
    "## Introducción\n",
    "Esta es una serie de ejercicios diseñados para practicar tus habilidades con **NumPy** y **Pandas**. Los primeros ejercicios incluyen una pequeña guía para ayudarte a comprender mejor los conceptos y las funciones clave. Los ejercicios posteriores son más avanzados y te permitirán aplicar técnicas de análisis de datos."
   ]
  },
  {
   "cell_type": "code",
   "execution_count": 2,
   "metadata": {},
   "outputs": [],
   "source": [
    "# Importacion de modulos\n",
    "import pandas as pd\n",
    "import numpy as np\n",
    "import seaborn as sns\n"
   ]
  },
  {
   "cell_type": "markdown",
   "metadata": {},
   "source": [
    "## Ejercicio 1: Operaciones básicas con NumPy\n",
    "**Objetivo**: Crear y manipular arrays.\n",
    "\n",
    "1. Crea un array de NumPy de 10 elementos con valores entre 1 y 10.\n",
    "2. Calcula la media, mediana, y desviación estándar de los valores.\n",
    "3. Multiplica cada valor por 2.\n",
    "\n",
    "**Mini-guía**:\n",
    "\n",
    "- Usa `np.array` para crear un array.\n",
    "- Métodos útiles: `np.mean()`, `np.median()`, `np.std()`.\n"
   ]
  },
  {
   "cell_type": "code",
   "execution_count": 22,
   "metadata": {},
   "outputs": [
    {
     "name": "stdout",
     "output_type": "stream",
     "text": [
      "Media:  6.1\n",
      "Mediana:  6.0\n",
      "Desviación estandar:  2.2561028345356955\n",
      "\n",
      "Multiplicacion del array por 2: [ 2  4  6  8 10 12 14 16 18 20]\n",
      "\n",
      "[ 1  2  3  4  5  6  7  8  9 10]\n",
      "[0. 0. 0. 0. 0. 0. 0. 0. 0. 0.]\n",
      "[1. 1. 1. 1. 1. 1. 1. 1. 1. 1.]\n",
      "[0 1 2 3 4 5 6 7 8 9]\n",
      "[ 8  8  5 10  3  2  7  6  6  6]\n"
     ]
    }
   ],
   "source": [
    "# 1. CREA ARRAYS DE 10 ELEMENTOS ---> (Diferentes formas de crear un array)\n",
    "array = np.array([1,2,3,4,5,6,7,8,9,10]) # Construcción básica\n",
    "array_zeros = np.zeros([10]) # Array de ceros\n",
    "array_ones = np.ones([10]) # Array de unos\n",
    "array_con_rango = np.arange(10) # Array con rango desde el 0\n",
    "array_valores_random = np.random.randint(0,11, size=10) # Array con valores random de 0 al 10. de medida 10\n",
    "\n",
    "# 2. CALCULA LA MEDIA, MEDIANA Y DESVIACION ESTANDAR ---> (Utilizo el array de valores random)\n",
    "media = np.mean(array_valores_random)\n",
    "mediana = np.median(array_valores_random)\n",
    "desviacion_estandar = np.std(array_valores_random)\n",
    "\n",
    "print('Media: ',media)\n",
    "print('Mediana: ',mediana)\n",
    "print('Desviación estandar: ', desviacion_estandar)\n",
    "\n",
    "# 3. MULTIPLICA LOS ARRAYS\n",
    "print(f\"\\nMultiplicacion del array por 2: {array*2}\\n\")\n",
    "\n",
    "# Visualización de los arrays\n",
    "print(array)\n",
    "print(array_zeros)\n",
    "print(array_ones)\n",
    "print(array_con_rango)\n",
    "print(array_valores_random)\n"
   ]
  },
  {
   "cell_type": "markdown",
   "metadata": {},
   "source": [
    "### 📊 **2. Operaciones con Pandas DataFrames**\n",
    "\n",
    "**Objetivo**: Crear y manipular un DataFrame.\n",
    "\n",
    "**Enunciado**:\n",
    "1. Crea un DataFrame con 3 columnas (A, B, C) y 5 filas con números aleatorios enteros.\n",
    "2. Renombra las columnas a Col1, Col2, Col3.\n",
    "3. Añade una nueva columna que sea la suma de las columnas Col1 y Col2.\n",
    "4. Elimina todas las filas donde el valor de Col3 sea menor que 10.\n",
    "\n",
    "**Mini-guía**:\n",
    "- Métodos útiles: `pd.DataFrame()`, `df.rename()`, `df['NewCol']`, `df.drop()`."
   ]
  },
  {
   "cell_type": "code",
   "execution_count": 48,
   "metadata": {},
   "outputs": [
    {
     "name": "stdout",
     "output_type": "stream",
     "text": [
      "\n",
      "Dataframe Forma 2:\n",
      "    A   B   C\n",
      "0  18  19  12\n",
      "1  11   3  17\n",
      "2  17   3  16\n",
      "3  15  12  10\n",
      "4  12   4   3\n",
      "\n",
      "Renombrando columnas\n",
      "   Col1  Col2  Col3\n",
      "0    18    19    12\n",
      "1    11     3    17\n",
      "2    17     3    16\n",
      "3    15    12    10\n",
      "4    12     4     3\n",
      "\n",
      "Dataframe con una nueva columna\n",
      "   Col1  Col2  Col3  New_Col\n",
      "0    18    19    12       37\n",
      "1    11     3    17       14\n",
      "2    17     3    16       20\n",
      "3    15    12    10       27\n",
      "4    12     4     3       16\n",
      "dataframe filtrado\n",
      "   Col1  Col2  Col3  New_Col\n",
      "0    18    19    12       37\n",
      "1    11     3    17       14\n",
      "2    17     3    16       20\n"
     ]
    }
   ],
   "source": [
    "# 1. CREA UN DATAFRAME ---> (Diferentes formas de crear un array)\n",
    "\n",
    "# Forma 1: creacion de diccionario y convertirlo en dataframe\n",
    "d = {'A': [23, 14, 5, 4, 14], 'B': [3, 4, 5, 14, 4], 'C': [13, 8, 10, 11, 12]} \n",
    "\n",
    "df = pd.DataFrame(d)\n",
    "#print('Dataframe Forma 1:')\n",
    "#print(df)\n",
    "\n",
    "# Forma 1: Creando un arrar de dimesion 5*3 con numeros aleatorios hasta el 20\n",
    "df = pd.DataFrame(np.random.randint(20, size=(5,3)), columns=['A', 'B', 'C'])\n",
    "\n",
    "print('\\nDataframe Forma 2:')\n",
    "print(df)\n",
    "\n",
    "# 2. RENOMBRA LAS COLUMNAS\n",
    "df_rename = df.rename(columns={'A': 'Col1', 'B': 'Col2', 'C': 'Col3'})\n",
    "\n",
    "print('\\nRenombrando columnas')\n",
    "print(df_rename)\n",
    "\n",
    "# 3. AÑADE UNA NUEVA COLUMNA = Col1 + Col2\n",
    "df_rename['New_Col'] = df_rename['Col1'] + df_rename['Col2']\n",
    "\n",
    "print('\\nDataframe con una nueva columna')\n",
    "print(df_rename)\n",
    "\n",
    "# 4. ELIMINA TODAS LAS FILAS DONDE EL VALOR DE Col3 SEA MENOR QUE 10\n",
    "df_filtered = df_rename[df_rename['Col3'] > 10]\n",
    "print(\"dataframe filtrado\")\n",
    "print(df_filtered)"
   ]
  },
  {
   "cell_type": "markdown",
   "metadata": {},
   "source": [
    "## Ejercicio 3: Estadística descriptiva con Pandas\n",
    "**Objetivo**: Aplicar análisis estadístico básico.\n",
    "\n",
    "1. Crea un DataFrame con 100 valores aleatorios entre 0 y 50.\n",
    "2. Calcula la media, mediana y moda de los valores.\n",
    "3. Encuentra el valor mínimo y el valor máximo del DataFrame.\n",
    "\n",
    "**Mini-guía**:\n",
    "\n",
    "- Métodos útiles: `df.describe()`, `df['column'].mean()`, `df['column'].mode()`"
   ]
  },
  {
   "cell_type": "code",
   "execution_count": 5,
   "metadata": {},
   "outputs": [
    {
     "name": "stdout",
     "output_type": "stream",
     "text": [
      "   Valores\n",
      "0       11\n",
      "1        3\n",
      "2       46\n",
      "3        5\n",
      "4       12\n",
      "media = 25.37, mediana = 26.0, moda = 1\n",
      "max = 50 y min = 1\n",
      "          Valores\n",
      "count  100.000000\n",
      "mean    25.370000\n",
      "std     15.804778\n",
      "min      1.000000\n",
      "25%     11.750000\n",
      "50%     26.000000\n",
      "75%     40.000000\n",
      "max     50.000000\n"
     ]
    }
   ],
   "source": [
    "# 1. Crea un DataFrame con 100 valores aleatorios entre 0 y 50.\n",
    "df = pd.DataFrame(np.random.randint(0,51, size=100), columns=['Valores'])\n",
    "print(df.head())\n",
    "\n",
    "# 2. Calcula la media, mediana y moda de los valores.\n",
    "mean = df['Valores'].mean()\n",
    "mediana = df['Valores'].median()\n",
    "moda = df['Valores'].mode()[0]\n",
    "\n",
    "print(f\"media = {mean}, mediana = {mediana}, moda = {moda}\")\n",
    "\n",
    "# 3. Encuentra el valor mínimo y el valor máximo del DataFrame.\n",
    "max = df['Valores'].max()\n",
    "min = df['Valores'].min()\n",
    "\n",
    "print(f\"max = {max} y min = {min}\")\n",
    "\n",
    "print(df.describe())"
   ]
  },
  {
   "cell_type": "markdown",
   "metadata": {},
   "source": [
    "## Ejercicio 4: Indexación y Filtrado\n",
    "**Objetivo**: Practicar la selección de datos en un DataFrame.\n",
    "\n",
    "1. Carga un dataset usando Pandas (por ejemplo, `df = sns.load_dataset('tips')`).\n",
    "2. Selecciona todas las filas donde el valor de la columna `total_bill` sea mayor a 20.\n",
    "3. Filtra y muestra solo las columnas `total_bill` y `tip`.\n",
    "4. Ordena el DataFrame por la columna `tip` de mayor a menor.\n",
    "\n",
    "**Mini-guía**:\n",
    "\n",
    "- Métodos útiles: `df[df['column'] > valor]`, `df[['col1', 'col2']]`, `df.sort_values()`.\n"
   ]
  },
  {
   "cell_type": "code",
   "execution_count": 17,
   "metadata": {},
   "outputs": [
    {
     "name": "stdout",
     "output_type": "stream",
     "text": [
      "     total_bill    tip     sex smoker   day    time  size\n",
      "170       50.81  10.00    Male    Yes   Sat  Dinner     3\n",
      "212       48.33   9.00    Male     No   Sat  Dinner     4\n",
      "23        39.42   7.58    Male     No   Sat  Dinner     4\n",
      "59        48.27   6.73    Male     No   Sat  Dinner     4\n",
      "141       34.30   6.70    Male     No  Thur   Lunch     6\n",
      "..          ...    ...     ...    ...   ...     ...   ...\n",
      "0         16.99   1.01  Female     No   Sun  Dinner     2\n",
      "236       12.60   1.00    Male    Yes   Sat  Dinner     2\n",
      "111        7.25   1.00  Female     No   Sat  Dinner     1\n",
      "67         3.07   1.00  Female    Yes   Sat  Dinner     1\n",
      "92         5.75   1.00  Female    Yes   Fri  Dinner     2\n",
      "\n",
      "[244 rows x 7 columns]\n"
     ]
    }
   ],
   "source": [
    "# 1. Carga un dataset usando Pandas\n",
    "df = sns.load_dataset('tips')\n",
    "#print(df.head())\n",
    "\n",
    "#  2. Selecciona todas las filas donde el valor de la columna `total_bill` sea mayor a 20.\n",
    "df_filter = df[df['total_bill']  > 20]\n",
    "#print(df_filter)\n",
    "\n",
    "# 3. Filtra y muestra solo las columnas `total_bill` y `tip`.\n",
    "df_filter = df[['total_bill', 'tip']]\n",
    "#print(df_filter)\n",
    "\n",
    "# 4. Ordena el DataFrame por la columna `tip` de mayor a menor.\n",
    "df_orden = df.sort_values(by=['tip'], ascending=False)\n",
    "print(df_orden)"
   ]
  },
  {
   "cell_type": "markdown",
   "metadata": {},
   "source": [
    "## Ejercicio 5: Agrupaciones y funciones de agregación\n",
    "**Objetivo**: Agrupar datos y aplicar funciones de resumen.\n",
    "\n",
    "1. Carga el dataset de `titanic` desde Seaborn.\n",
    "2. Agrupa los datos por la columna `pclass` (clase del pasajero).\n",
    "3. Calcula la media de las edades (`age`) para cada grupo.\n",
    "4. Encuentra el número total de pasajeros en cada clase.\n",
    "\n",
    "**Mini-guía**:\n",
    "\n",
    "- Métodos útiles: `df.groupby()`, `df['column'].mean()`, `df.size()`."
   ]
  },
  {
   "cell_type": "code",
   "execution_count": 40,
   "metadata": {},
   "outputs": [
    {
     "name": "stdout",
     "output_type": "stream",
     "text": [
      "Media de las edades: 29.69911764705882\n",
      "Media de las edades por clase: pclass\n",
      "1    38.233441\n",
      "2    29.877630\n",
      "3    25.140620\n",
      "Name: age, dtype: float64\n",
      "El numero de pasajeros por clase es: \n",
      " pclass\n",
      "1    216\n",
      "2    184\n",
      "3    491\n",
      "dtype: int64\n"
     ]
    }
   ],
   "source": [
    "# 1. Carga el dataset de `titanic` desde Seaborn.\n",
    "df = sns.load_dataset('titanic')\n",
    "#print(df)\n",
    "\n",
    "# 2. Agrupa los datos por la columna `pclass` (clase del pasajero).\n",
    "df_group = df.groupby('pclass')\n",
    "\n",
    "# 3. Calcula la media de las edades (`age`) para cada grupo.\n",
    "age_mean = df['age'].mean()\n",
    "age_mean_class = df_group['age'].mean()\n",
    "print(f'Media de las edades: {age_mean}')\n",
    "print(f'Media de las edades por clase: {age_mean_class}')\n",
    "\n",
    "# 4. Encuentra el número total de pasajeros en cada clase.\n",
    "num_pasajeros_clase = df_group.size()\n",
    "print('El numero de pasajeros por clase es: \\n', num_pasajeros_clase)"
   ]
  },
  {
   "cell_type": "markdown",
   "metadata": {},
   "source": [
    "## Ejercicio 6: Manipulación avanzada de DataFrames\n",
    "**Objetivo**: Aplicar técnicas avanzadas de manipulación.\n",
    "\n",
    "1. Carga el dataset `diamonds` de Seaborn.\n",
    "2. Crea una nueva columna que calcule el precio por quilate (`price_per_carat`).\n",
    "3. Filtra todos los diamantes con un precio por quilate superior a 5000.\n",
    "4. Ordena el DataFrame por esta nueva columna."
   ]
  },
  {
   "cell_type": "code",
   "execution_count": 12,
   "metadata": {},
   "outputs": [
    {
     "name": "stdout",
     "output_type": "stream",
     "text": [
      "       carat        cut color clarity  depth  table  price     x     y     z  \\\n",
      "11416   1.16      Ideal     E     SI2   62.7   56.0   5001  6.69  6.73  4.21   \n",
      "11417   1.16      Ideal     E     SI2   59.9   57.0   5001  6.80  6.82  4.08   \n",
      "11418   0.90       Good     G    VVS2   63.6   58.0   5001  6.10  6.11  3.88   \n",
      "11419   0.90  Very Good     E     VS1   62.3   56.0   5001  6.10  6.19  3.83   \n",
      "11420   0.90    Premium     D     VS2   62.6   59.0   5001  6.14  6.17  3.85   \n",
      "...      ...        ...   ...     ...    ...    ...    ...   ...   ...   ...   \n",
      "27745   2.00  Very Good     H     SI1   62.8   57.0  18803  7.95  8.00  5.01   \n",
      "27746   2.07      Ideal     G     SI2   62.5   55.0  18804  8.20  8.13  5.11   \n",
      "27747   1.51      Ideal     G      IF   61.7   55.0  18806  7.37  7.41  4.56   \n",
      "27748   2.00  Very Good     G     SI1   63.5   56.0  18818  7.90  7.97  5.04   \n",
      "27749   2.29    Premium     I     VS2   60.8   60.0  18823  8.50  8.47  5.16   \n",
      "\n",
      "       price_per_carat  \n",
      "11416         0.000232  \n",
      "11417         0.000232  \n",
      "11418         0.000180  \n",
      "11419         0.000180  \n",
      "11420         0.000180  \n",
      "...                ...  \n",
      "27745         0.000106  \n",
      "27746         0.000110  \n",
      "27747         0.000080  \n",
      "27748         0.000106  \n",
      "27749         0.000122  \n",
      "\n",
      "[14714 rows x 11 columns]\n"
     ]
    }
   ],
   "source": [
    "# 1. Carga el dataset `diamonds` de Seaborn.\n",
    "df = sns.load_dataset('diamonds')\n",
    "#print(df.head())\n",
    "\n",
    "# 2. Crea una nueva columna que calcule el precio por quilate (`price_per_carat`).\n",
    "df['price_per_carat'] = df['carat'] / df['price']\n",
    "#print(df)\n",
    "\n",
    "# 3. Filtra todos los diamantes con un precio por quilate superior a 5000.\n",
    "df_filter = df[df['price'] > 5000]\n",
    "#print(df_filter)\n",
    "\n",
    "# 4. Ordena el DataFrame por esta nueva columna.\n",
    "df_filter['price'].sort_values()\n",
    "df_filter.sort_values(by=['price'], ascending=False)\n",
    "print(df_filter)\n"
   ]
  },
  {
   "cell_type": "markdown",
   "metadata": {},
   "source": [
    "## Ejercicio 7: Análisis de series temporales con Pandas\n",
    "**Objetivo**: Trabajar con fechas y series temporales.\n",
    "\n",
    "1. Crea un DataFrame con una columna de fechas (usa `pd.date_range()` para generar las fechas).\n",
    "2. Genera 100 valores aleatorios asociados a estas fechas.\n",
    "3. Calcula la media móvil de los valores con una ventana de 5 días."
   ]
  },
  {
   "cell_type": "code",
   "execution_count": 40,
   "metadata": {},
   "outputs": [
    {
     "name": "stdout",
     "output_type": "stream",
     "text": [
      "       Fechas  Values  media_movil\n",
      "0  2020-01-01      71          NaN\n",
      "1  2020-01-02      91          NaN\n",
      "2  2020-01-03      13          NaN\n",
      "3  2020-01-04      29          NaN\n",
      "4  2020-01-05      37         48.2\n",
      "5  2020-01-06      42         42.4\n",
      "6  2020-01-07      16         27.4\n",
      "7  2020-01-08      69         38.6\n",
      "8  2020-01-09      54         43.6\n",
      "9  2020-01-10      99         56.0\n",
      "10 2020-01-11      26         52.8\n",
      "11 2020-01-12      46         58.8\n",
      "12 2020-01-13      11         47.2\n",
      "13 2020-01-14       9         38.2\n",
      "14 2020-01-15      45         27.4\n",
      "15 2020-01-16      82         38.6\n",
      "16 2020-01-17      92         47.8\n",
      "17 2020-01-18      19         49.4\n",
      "18 2020-01-19      49         57.4\n",
      "19 2020-01-20      56         59.6\n",
      "20 2020-01-21      62         55.6\n",
      "21 2020-01-22      55         48.2\n",
      "22 2020-01-23      76         59.6\n",
      "23 2020-01-24       2         50.2\n",
      "24 2020-01-25      52         49.4\n",
      "25 2020-01-26      83         53.6\n",
      "26 2020-01-27      91         60.8\n",
      "27 2020-01-28      47         55.0\n",
      "28 2020-01-29      91         72.8\n",
      "29 2020-01-30      64         75.2\n"
     ]
    }
   ],
   "source": [
    "# 1. Crea un DataFrame con una columna de fechas (usa `pd.date_range()` para generar las fechas).\n",
    "df = pd.DataFrame(pd.date_range(start='1/1/2020', periods=100), columns=['Fechas'])\n",
    "\n",
    "# 2. Genera 100 valores aleatorios asociados a estas fechas.\n",
    "df['Values'] = np.random.randint(101, size=100)\n",
    "#print(df)\n",
    "\n",
    "# 3. Calcula la media móvil de los valores con una ventana de 5 días.\n",
    "df['media_movil'] = df['Values'].rolling(window=5).mean()\n",
    "print(df.head())\n"
   ]
  },
  {
   "cell_type": "markdown",
   "metadata": {},
   "source": [
    "## Ejercicio 8: Aplicación de funciones personalizadas\n",
    "**Objetivo**: Aplicar funciones personalizadas a un DataFrame.\n",
    "\n",
    "1. Crea un DataFrame con valores aleatorios.\n",
    "2. Define una función que clasifique los valores como `alto` si son mayores a 0 y `bajo` si son menores o iguales.\n",
    "3. Aplica esta función a todas las filas de una columna y crea una nueva columna con los resultados.\n"
   ]
  },
  {
   "cell_type": "code",
   "execution_count": 47,
   "metadata": {},
   "outputs": [
    {
     "name": "stdout",
     "output_type": "stream",
     "text": [
      "   Values resultado\n",
      "0      75      alto\n",
      "1      63      alto\n",
      "2      -2      bajo\n",
      "3     -42      bajo\n",
      "4      27      alto\n"
     ]
    }
   ],
   "source": [
    "# 1. Crea un DataFrame con valores aleatorios.\n",
    "df = pd.DataFrame(np.random.randint(low=-100, high=100, size=30), columns=['Values'])\n",
    "#print(df)\n",
    "\n",
    "# 2. Define una función que clasifique los valores como `alto` si son mayores a 0 y `bajo` si son menores o iguales.\n",
    "def bajo_alto(valores):\n",
    "    if valores <= 0:\n",
    "        tipo = 'bajo'\n",
    "    else:\n",
    "        tipo = 'alto'\n",
    "    return tipo\n",
    " \n",
    "# 3. Aplica esta función a todas las filas de una columna y crea una nueva columna con los resultados.\n",
    "df['resultado'] = df['Values'].apply(bajo_alto)\n",
    "print(df.head())\n"
   ]
  },
  {
   "cell_type": "markdown",
   "metadata": {},
   "source": [
    "## Ejercicio 9: Limpieza de datos con Pandas\n",
    "**Objetivo**: Limpiar y manipular datos faltantes.\n",
    "\n",
    "1. Crea un DataFrame con datos faltantes en algunas celdas.\n",
    "2. Llena los valores faltantes con la media de la columna.\n",
    "3. Elimina las filas que tengan más de 2 valores faltantes."
   ]
  },
  {
   "cell_type": "code",
   "execution_count": 48,
   "metadata": {},
   "outputs": [
    {
     "name": "stdout",
     "output_type": "stream",
     "text": [
      "       a     b     c\n",
      "0    NaN   NaN   NaN\n",
      "1   17.0  41.0   8.0\n",
      "2   41.0  83.0  43.0\n",
      "3    NaN   NaN   NaN\n",
      "4   39.0   8.0  49.0\n",
      "5   42.0  69.0  36.0\n",
      "6    NaN   NaN   NaN\n",
      "7   94.0  84.0  32.0\n",
      "8   99.0  60.0   2.0\n",
      "9   89.0  44.0  94.0\n",
      "10   NaN   NaN   NaN\n",
      "11   NaN   NaN   NaN\n",
      "12   7.0   9.0  74.0\n",
      "13  14.0  81.0  82.0\n",
      "14  83.0  60.0  21.0\n",
      "15   NaN   NaN   NaN\n",
      "16   6.0   8.0  76.0\n",
      "17   NaN   NaN   NaN\n",
      "18  55.0  84.0  92.0\n",
      "19  56.0  68.0  55.0\n"
     ]
    },
    {
     "name": "stderr",
     "output_type": "stream",
     "text": [
      "C:\\Users\\Camila\\AppData\\Local\\Temp\\ipykernel_10412\\4156907043.py:5: DeprecationWarning: This function is deprecated. Please call randint(0, 20 + 1) instead\n",
      "  filas = np.random.random_integers(0, len(df), size=10)\n"
     ]
    }
   ],
   "source": [
    "# 1. Crea un DataFrame con datos faltantes en algunas celdas.\n",
    "df = pd.DataFrame(np.random.randint(low=0, high=100, size=(20,3)), columns=['a', 'b', 'c'])\n",
    "\n",
    "\n",
    "filas = np.random.random_integers(0, len(df), size=10)\n",
    "columnas = np.random.randint(0, df.shape[1], size=10)\n",
    "#print(array)\n",
    "df.iloc[filas, columnas] = np.nan\n",
    "print(df)\n",
    "# 2. Llena los valores faltantes con la media de la columna.\n",
    "#df_new = df.fillna(df['Values'].mean())\n",
    "#print(df_new)\n",
    "\n",
    "# 3. Elimina las filas que tengan más de 2 valores faltantes."
   ]
  },
  {
   "cell_type": "markdown",
   "metadata": {},
   "source": [
    "## Ejercicio 10: Proyecto Final 🚀\n",
    "**Objetivo**: Realiza un análisis completo.\n",
    "\n",
    "1. Elige un dataset de tu interés (puedes usar uno de Seaborn o uno descargado de Kaggle).\n",
    "2. Realiza un análisis exploratorio: estadísticas descriptivas, visualizaciones y correlaciones.\n",
    "3. Identifica relaciones interesantes entre las variables.\n",
    "4. Aplica técnicas avanzadas de visualización.\n",
    "5. Presenta un informe con gráficos y conclusiones.\n"
   ]
  }
 ],
 "metadata": {
  "kernelspec": {
   "display_name": "work",
   "language": "python",
   "name": "python3"
  },
  "language_info": {
   "codemirror_mode": {
    "name": "ipython",
    "version": 3
   },
   "file_extension": ".py",
   "mimetype": "text/x-python",
   "name": "python",
   "nbconvert_exporter": "python",
   "pygments_lexer": "ipython3",
   "version": "3.9.18"
  }
 },
 "nbformat": 4,
 "nbformat_minor": 2
}
