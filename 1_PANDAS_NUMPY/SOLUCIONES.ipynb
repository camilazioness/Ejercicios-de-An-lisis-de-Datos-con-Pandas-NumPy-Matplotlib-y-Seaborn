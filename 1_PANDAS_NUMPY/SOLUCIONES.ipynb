{
 "cells": [
  {
   "cell_type": "markdown",
   "metadata": {},
   "source": [
    "# Ejercicios de NumPy y Pandas 📊📈\n",
    "\n",
    "## Introducción\n",
    "Esta es una serie de ejercicios diseñados para practicar tus habilidades con **NumPy** y **Pandas**. Los primeros ejercicios incluyen una pequeña guía para ayudarte a comprender mejor los conceptos y las funciones clave. Los ejercicios posteriores son más avanzados y te permitirán aplicar técnicas de análisis de datos."
   ]
  },
  {
   "cell_type": "code",
   "execution_count": 1,
   "metadata": {},
   "outputs": [],
   "source": [
    "# Importacion de modulos\n",
    "import pandas as pd\n",
    "import numpy as np\n",
    "import seaborn as sns\n"
   ]
  },
  {
   "cell_type": "markdown",
   "metadata": {},
   "source": [
    "## Ejercicio 1: Operaciones básicas con NumPy\n",
    "**Objetivo**: Crear y manipular arrays.\n",
    "\n",
    "1. Crea un array de NumPy de 10 elementos con valores entre 1 y 10.\n",
    "2. Calcula la media, mediana, y desviación estándar de los valores.\n",
    "3. Multiplica cada valor por 2.\n",
    "\n",
    "**Mini-guía**:\n",
    "\n",
    "- Usa `np.array` para crear un array.\n",
    "- Métodos útiles: `np.mean()`, `np.median()`, `np.std()`.\n"
   ]
  },
  {
   "cell_type": "code",
   "execution_count": 6,
   "metadata": {},
   "outputs": [
    {
     "name": "stdout",
     "output_type": "stream",
     "text": [
      "Array con valores aleatorios -->  [ 8 10  7  6  8  6  8 10  0  0]\n",
      "\n",
      "Media:  6.3\n",
      "Mediana:  7.5\n",
      "Desviación estandar:  3.407345007480164\n",
      "\n",
      "Multiplicacion del array por 2: [ 2  4  6  8 10 12 14 16 18 20]\n",
      "\n"
     ]
    }
   ],
   "source": [
    "# 1. CREA ARRAYS DE 10 ELEMENTOS ---> (Diferentes formas de crear un array)\n",
    "array = np.array([1,2,3,4,5,6,7,8,9,10]) # Construcción básica\n",
    "array_zeros = np.zeros([10]) # Array de ceros\n",
    "array_ones = np.ones([10]) # Array de unos\n",
    "array_con_rango = np.arange(10) # Array con rango 10 valores (empezando en el cero)\n",
    "array_valores_random = np.random.randint(0,11, size=10) # Array con valores aleatorios de 0 al 10. de medida 10\n",
    "\n",
    "# Visualización de los arrays\n",
    "#print('Construcción básica --> ',array)\n",
    "#print('Array de ceros --> ',array_zeros)\n",
    "#print('Array de unos --> ', array_ones)\n",
    "#print('Array con rango 10 valores --> ',array_con_rango)\n",
    "print('Array con valores aleatorios --> ',array_valores_random)\n",
    "\n",
    "# 2. CALCULA LA MEDIA, MEDIANA Y DESVIACION ESTANDAR ---> (Utilizo el array de valores aleatorios)\n",
    "media = np.mean(array_valores_random) \n",
    "mediana = np.median(array_valores_random)\n",
    "desviacion_estandar = np.std(array_valores_random)\n",
    "\n",
    "# Imprimir los resultados\n",
    "print('\\nMedia: ',media)\n",
    "print('Mediana: ',mediana)\n",
    "print('Desviación estandar: ', desviacion_estandar)\n",
    "\n",
    "# 3. MULTIPLICAR LOS ARRAYS\n",
    "print(f\"\\nMultiplicacion del array por 2: {array*2}\\n\")\n",
    "\n",
    "\n"
   ]
  },
  {
   "cell_type": "markdown",
   "metadata": {},
   "source": [
    "### 📊 **2. Operaciones con Pandas DataFrames**\n",
    "\n",
    "**Objetivo**: Crear y manipular un DataFrame.\n",
    "\n",
    "**Enunciado**:\n",
    "1. Crea un DataFrame con 3 columnas (A, B, C) y 5 filas con números aleatorios enteros.\n",
    "2. Renombra las columnas a Col1, Col2, Col3.\n",
    "3. Añade una nueva columna que sea la suma de las columnas Col1 y Col2.\n",
    "4. Elimina todas las filas donde el valor de Col3 sea menor que 10.\n",
    "\n",
    "**Mini-guía**:\n",
    "- Métodos útiles: `pd.DataFrame()`, `df.rename()`, `df['NewCol']`, `df.drop()`."
   ]
  },
  {
   "cell_type": "code",
   "execution_count": 3,
   "metadata": {},
   "outputs": [
    {
     "name": "stdout",
     "output_type": "stream",
     "text": [
      "\n",
      "Dataframe Forma 2:\n",
      "    A   B   C\n",
      "0   7  19   3\n",
      "1  10  17   3\n",
      "2   8  14  10\n",
      "3   6   2   2\n",
      "4  19  14  13\n",
      "\n",
      "Renombrando columnas\n",
      "   Col1  Col2  Col3\n",
      "0     7    19     3\n",
      "1    10    17     3\n",
      "2     8    14    10\n",
      "3     6     2     2\n",
      "4    19    14    13\n",
      "\n",
      "Dataframe con una nueva columna\n",
      "   Col1  Col2  Col3  New_Col\n",
      "0     7    19     3       26\n",
      "1    10    17     3       27\n",
      "2     8    14    10       22\n",
      "3     6     2     2        8\n",
      "4    19    14    13       33\n",
      "Dataframe filtrado\n",
      "   Col1  Col2  Col3  New_Col\n",
      "4    19    14    13       33\n"
     ]
    }
   ],
   "source": [
    "# 1. CREA UN DATAFRAME ---> (Diferentes formas de crear un array)\n",
    "\n",
    "# Forma 1: Crear un diccionario y convertirlo en dataframe\n",
    "dic = {'A': [23, 14, 5, 4, 14], 'B': [3, 4, 5, 14, 4], 'C': [13, 8, 10, 11, 12]}  \n",
    "df = pd.DataFrame(dic)\n",
    "#print('Dataframe Forma 1:')\n",
    "#print(df)\n",
    "\n",
    "# Forma 2: Creando un arrar de dimesion 5*3 con numeros aleatorios hasta el 20\n",
    "df = pd.DataFrame(np.random.randint(20, size=(5,3)), columns=['A', 'B', 'C'])\n",
    "print('\\nDataframe Forma 2:')\n",
    "print(df)\n",
    "\n",
    "# 2. RENOMBRA LAS COLUMNAS \n",
    "df = df.rename(columns={'A': 'Col1', 'B': 'Col2', 'C': 'Col3'})\n",
    "print('\\nRenombrando columnas')\n",
    "print(df)\n",
    "\n",
    "# 3. AÑADE UNA NUEVA COLUMNA = Col1 + Col2\n",
    "df['New_Col'] = df['Col1'] + df['Col2']\n",
    "print('\\nDataframe con una nueva columna')\n",
    "print(df)\n",
    "\n",
    "# 4. ELIMINA TODAS LAS FILAS DONDE EL VALOR DE Col3 SEA MENOR QUE 10\n",
    "df = df[df['Col3'] > 10] #FIltrado del dataframe \n",
    "print(\"Dataframe filtrado\")\n",
    "print(df)"
   ]
  },
  {
   "cell_type": "markdown",
   "metadata": {},
   "source": [
    "## Ejercicio 3: Estadística descriptiva con Pandas\n",
    "**Objetivo**: Aplicar análisis estadístico básico.\n",
    "\n",
    "1. Crea un DataFrame con 100 valores aleatorios entre 0 y 50.\n",
    "2. Calcula la media, mediana y moda de los valores.\n",
    "3. Encuentra el valor mínimo y el valor máximo del DataFrame.\n",
    "\n",
    "**Mini-guía**:\n",
    "\n",
    "- Métodos útiles: `df.describe()`, `df['column'].mean()`, `df['column'].mode()`"
   ]
  },
  {
   "cell_type": "code",
   "execution_count": 20,
   "metadata": {},
   "outputs": [
    {
     "name": "stdout",
     "output_type": "stream",
     "text": [
      "   Valores\n",
      "0       47\n",
      "1       13\n",
      "2       38\n",
      "3        2\n",
      "4       37\n",
      "media = 24.57, mediana = 23.0, moda = 47\n",
      "max = 50 y min = 0\n",
      "\n",
      "           Valores\n",
      "count  100.000000\n",
      "mean    24.570000\n",
      "std     15.710934\n",
      "min      0.000000\n",
      "25%     12.000000\n",
      "50%     23.000000\n",
      "75%     39.000000\n",
      "max     50.000000\n"
     ]
    }
   ],
   "source": [
    "# 1. Crea un DataFrame con 100 valores aleatorios entre 0 y 50.\n",
    "df = pd.DataFrame(np.random.randint(0,51, size=100), columns=['Valores'])\n",
    "print(df.head())\n",
    "\n",
    "# 2. Calcula la media, mediana y moda de los valores.\n",
    "mean = df['Valores'].mean()\n",
    "mediana = df['Valores'].median()\n",
    "moda = df['Valores'].mode()[0]  #Devuelve una serie con todos los valores que tienen la misma frecuencia, por eso [0]\n",
    "print(f\"media = {mean}, mediana = {mediana}, moda = {moda}\")\n",
    "\n",
    "# 3. Encuentra el valor mínimo y el valor máximo del DataFrame.\n",
    "max = df['Valores'].max()\n",
    "min = df['Valores'].min()\n",
    "print(f\"max = {max} y min = {min}\")\n",
    "\n",
    "print('\\n',df.describe())"
   ]
  },
  {
   "cell_type": "markdown",
   "metadata": {},
   "source": [
    "## Ejercicio 4: Indexación y Filtrado\n",
    "**Objetivo**: Practicar la selección de datos en un DataFrame.\n",
    "\n",
    "1. Carga un dataset usando Pandas (por ejemplo, `df = sns.load_dataset('tips')`).\n",
    "2. Selecciona todas las filas donde el valor de la columna `total_bill` sea mayor a 20.\n",
    "3. Filtra y muestra solo las columnas `total_bill` y `tip`.\n",
    "4. Ordena el DataFrame por la columna `tip` de mayor a menor.\n",
    "\n",
    "**Mini-guía**:\n",
    "\n",
    "- Métodos útiles: `df[df['column'] > valor]`, `df[['col1', 'col2']]`, `df.sort_values()`.\n"
   ]
  },
  {
   "cell_type": "code",
   "execution_count": 24,
   "metadata": {},
   "outputs": [
    {
     "name": "stdout",
     "output_type": "stream",
     "text": [
      "     total_bill    tip     sex smoker   day    time  size\n",
      "170       50.81  10.00    Male    Yes   Sat  Dinner     3\n",
      "212       48.33   9.00    Male     No   Sat  Dinner     4\n",
      "23        39.42   7.58    Male     No   Sat  Dinner     4\n",
      "59        48.27   6.73    Male     No   Sat  Dinner     4\n",
      "141       34.30   6.70    Male     No  Thur   Lunch     6\n",
      "..          ...    ...     ...    ...   ...     ...   ...\n",
      "0         16.99   1.01  Female     No   Sun  Dinner     2\n",
      "236       12.60   1.00    Male    Yes   Sat  Dinner     2\n",
      "111        7.25   1.00  Female     No   Sat  Dinner     1\n",
      "67         3.07   1.00  Female    Yes   Sat  Dinner     1\n",
      "92         5.75   1.00  Female    Yes   Fri  Dinner     2\n",
      "\n",
      "[244 rows x 7 columns]\n"
     ]
    }
   ],
   "source": [
    "# 1. Carga un dataset usando Pandas\n",
    "df = sns.load_dataset('tips')\n",
    "#print(df.head())\n",
    "\n",
    "#  2. Selecciona todas las filas donde el valor de la columna `total_bill` sea mayor a 20.\n",
    "df_filter = df[df['total_bill']  > 20]\n",
    "#print(df_filter)\n",
    "\n",
    "# 3. Filtra y muestra solo las columnas `total_bill` y `tip`.\n",
    "df_filter = df[['total_bill', 'tip']]\n",
    "#print(df_filter)\n",
    "\n",
    "# 4. Ordena el DataFrame por la columna `tip` de mayor a menor.\n",
    "df_orden = df.sort_values(by=['tip'], ascending=False)\n",
    "print(df_orden)"
   ]
  },
  {
   "cell_type": "markdown",
   "metadata": {},
   "source": [
    "## Ejercicio 5: Agrupaciones y funciones de agregación\n",
    "**Objetivo**: Agrupar datos y aplicar funciones de resumen.\n",
    "\n",
    "1. Carga el dataset de `titanic` desde Seaborn.\n",
    "2. Agrupa los datos por la columna `pclass` (clase del pasajero).\n",
    "3. Calcula la media de las edades (`age`) para cada grupo.\n",
    "4. Encuentra el número total de pasajeros en cada clase.\n",
    "\n",
    "**Mini-guía**:\n",
    "\n",
    "- Métodos útiles: `df.groupby()`, `df['column'].mean()`, `df.size()`."
   ]
  },
  {
   "cell_type": "code",
   "execution_count": 29,
   "metadata": {},
   "outputs": [
    {
     "name": "stdout",
     "output_type": "stream",
     "text": [
      "Media de las edades: 29.69911764705882\n",
      "Media de las edades por clase: pclass\n",
      "1    38.233441\n",
      "2    29.877630\n",
      "3    25.140620\n",
      "Name: age, dtype: float64\n",
      "El numero de pasajeros por clase es: \n",
      " pclass\n",
      "1    216\n",
      "2    184\n",
      "3    491\n",
      "dtype: int64\n"
     ]
    }
   ],
   "source": [
    "# 1. Carga el dataset de `titanic` desde Seaborn.\n",
    "df = sns.load_dataset('titanic')\n",
    "#print(df)\n",
    "\n",
    "# 2. Agrupa los datos por la columna `pclass` (clase del pasajero).\n",
    "df_group = df.groupby('pclass')\n",
    "\n",
    "# 3. Calcula la media de las edades (`age`) para cada grupo.\n",
    "age_mean = df['age'].mean()\n",
    "age_mean_class = df_group['age'].mean()\n",
    "print(f'Media de las edades: {age_mean}')\n",
    "print(f'Media de las edades por clase: {age_mean_class}')\n",
    "\n",
    "# 4. Encuentra el número total de pasajeros en cada clase.\n",
    "num_pasajeros_clase = df_group.size()\n",
    "print('El numero de pasajeros por clase es: \\n', num_pasajeros_clase)"
   ]
  },
  {
   "cell_type": "markdown",
   "metadata": {},
   "source": [
    "## Ejercicio 6: Manipulación avanzada de DataFrames\n",
    "**Objetivo**: Aplicar técnicas avanzadas de manipulación.\n",
    "\n",
    "1. Carga el dataset `diamonds` de Seaborn.\n",
    "2. Crea una nueva columna que calcule el precio por quilate (`price_per_carat`).\n",
    "3. Filtra todos los diamantes con un precio por quilate superior a 5000.\n",
    "4. Ordena el DataFrame por esta nueva columna."
   ]
  },
  {
   "cell_type": "code",
   "execution_count": 33,
   "metadata": {},
   "outputs": [
    {
     "name": "stdout",
     "output_type": "stream",
     "text": [
      "       carat        cut color clarity  depth  table  price     x     y     z  \\\n",
      "11416   1.16      Ideal     E     SI2   62.7   56.0   5001  6.69  6.73  4.21   \n",
      "11417   1.16      Ideal     E     SI2   59.9   57.0   5001  6.80  6.82  4.08   \n",
      "11418   0.90       Good     G    VVS2   63.6   58.0   5001  6.10  6.11  3.88   \n",
      "11419   0.90  Very Good     E     VS1   62.3   56.0   5001  6.10  6.19  3.83   \n",
      "11420   0.90    Premium     D     VS2   62.6   59.0   5001  6.14  6.17  3.85   \n",
      "...      ...        ...   ...     ...    ...    ...    ...   ...   ...   ...   \n",
      "27745   2.00  Very Good     H     SI1   62.8   57.0  18803  7.95  8.00  5.01   \n",
      "27746   2.07      Ideal     G     SI2   62.5   55.0  18804  8.20  8.13  5.11   \n",
      "27747   1.51      Ideal     G      IF   61.7   55.0  18806  7.37  7.41  4.56   \n",
      "27748   2.00  Very Good     G     SI1   63.5   56.0  18818  7.90  7.97  5.04   \n",
      "27749   2.29    Premium     I     VS2   60.8   60.0  18823  8.50  8.47  5.16   \n",
      "\n",
      "       price_per_carat  \n",
      "11416         0.000232  \n",
      "11417         0.000232  \n",
      "11418         0.000180  \n",
      "11419         0.000180  \n",
      "11420         0.000180  \n",
      "...                ...  \n",
      "27745         0.000106  \n",
      "27746         0.000110  \n",
      "27747         0.000080  \n",
      "27748         0.000106  \n",
      "27749         0.000122  \n",
      "\n",
      "[14714 rows x 11 columns]\n"
     ]
    }
   ],
   "source": [
    "# 1. Carga el dataset `diamonds` de Seaborn.\n",
    "df = sns.load_dataset('diamonds')\n",
    "#print(df.head())\n",
    "\n",
    "# 2. Crea una nueva columna que calcule el precio por quilate (`price_per_carat`).\n",
    "df['price_per_carat'] = df['carat'] / df['price']\n",
    "#print(df)\n",
    "\n",
    "# 3. Filtra todos los diamantes con un precio por quilate superior a 5000.\n",
    "df_filter = df[df['price'] > 5000]\n",
    "#print(df_filter)\n",
    "\n",
    "# 4. Ordena el DataFrame por esta nueva columna.\n",
    "df_filter['price'].sort_values()\n",
    "df_filter.sort_values(by=['price'], ascending=False)\n",
    "print(df_filter)\n"
   ]
  },
  {
   "cell_type": "markdown",
   "metadata": {},
   "source": [
    "## Ejercicio 7: Análisis de series temporales con Pandas\n",
    "**Objetivo**: Trabajar con fechas y series temporales.\n",
    "\n",
    "1. Crea un DataFrame con una columna de fechas (usa `pd.date_range()` para generar las fechas).\n",
    "2. Genera 100 valores aleatorios asociados a estas fechas.\n",
    "3. Calcula la media móvil de los valores con una ventana de 5 días."
   ]
  },
  {
   "cell_type": "code",
   "execution_count": 36,
   "metadata": {},
   "outputs": [
    {
     "name": "stdout",
     "output_type": "stream",
     "text": [
      "       Fechas  Values  media_movil\n",
      "0  2020-01-01      11          NaN\n",
      "1  2020-01-02      86          NaN\n",
      "2  2020-01-03      69          NaN\n",
      "3  2020-01-04      29          NaN\n",
      "4  2020-01-05      55         50.0\n",
      "5  2020-01-06      52         58.2\n",
      "6  2020-01-07      31         47.2\n",
      "7  2020-01-08      59         45.2\n",
      "8  2020-01-09      57         50.8\n",
      "9  2020-01-10      17         43.2\n",
      "10 2020-01-11      98         52.4\n",
      "11 2020-01-12      58         57.8\n"
     ]
    }
   ],
   "source": [
    "# 1. Crea un DataFrame con una columna de fechas (usa `pd.date_range()` para generar las fechas).\n",
    "df = pd.DataFrame(pd.date_range(start='1/1/2020', periods=100), columns=['Fechas'])\n",
    "\n",
    "# 2. Genera 100 valores aleatorios asociados a estas fechas. (Añado una nueva columna con los valores aleatorios)\n",
    "df['Values'] = np.random.randint(101, size=100)\n",
    "#print(df)\n",
    "\n",
    "# 3. Calcula la media móvil de los valores con una ventana de 5 días. (Añado una nueva columna con la media movil)\n",
    "df['media_movil'] = df['Values'].rolling(window=5).mean()\n",
    "print(df.head(12))\n"
   ]
  },
  {
   "cell_type": "markdown",
   "metadata": {},
   "source": [
    "## Ejercicio 8: Aplicación de funciones personalizadas\n",
    "**Objetivo**: Aplicar funciones personalizadas a un DataFrame.\n",
    "\n",
    "1. Crea un DataFrame con valores aleatorios.\n",
    "2. Define una función que clasifique los valores como `alto` si son mayores a 0 y `bajo` si son menores o iguales.\n",
    "3. Aplica esta función a todas las filas de una columna y crea una nueva columna con los resultados.\n"
   ]
  },
  {
   "cell_type": "code",
   "execution_count": 26,
   "metadata": {},
   "outputs": [
    {
     "name": "stdout",
     "output_type": "stream",
     "text": [
      "   Values resultado\n",
      "0     -46      bajo\n",
      "1     -58      bajo\n",
      "2      -5      bajo\n",
      "3      54      alto\n",
      "4      58      alto\n"
     ]
    }
   ],
   "source": [
    "# 1. Crea un DataFrame con valores aleatorios.\n",
    "df = pd.DataFrame(np.random.randint(low=-100, high=100, size=30), columns=['Values'])\n",
    "#print(df)\n",
    "\n",
    "# 2. Define una función que clasifique los valores como `alto` si son mayores a 0 y `bajo` si son menores o iguales.\n",
    "def bajo_alto(valores):\n",
    "    if valores <= 0:\n",
    "        tipo = 'bajo'\n",
    "    else:\n",
    "        tipo = 'alto'\n",
    "    return tipo\n",
    " \n",
    "# 3. Aplica esta función a todas las filas de una columna y crea una nueva columna con los resultados.\n",
    "df['resultado'] = df['Values'].apply(bajo_alto)\n",
    "print(df.head())\n"
   ]
  },
  {
   "cell_type": "markdown",
   "metadata": {},
   "source": [
    "## Ejercicio 9: Limpieza de datos con Pandas\n",
    "**Objetivo**: Limpiar y manipular datos faltantes.\n",
    "\n",
    "1. Crea un DataFrame con datos faltantes en algunas celdas.\n",
    "2. Llena los valores faltantes con la media de la columna.\n",
    "3. Elimina las filas que tengan más de 2 valores faltantes."
   ]
  },
  {
   "cell_type": "code",
   "execution_count": 72,
   "metadata": {},
   "outputs": [
    {
     "name": "stdout",
     "output_type": "stream",
     "text": [
      "       a     b     c\n",
      "0   34.0   3.0  12.0\n",
      "1   99.0  53.0  51.0\n",
      "2    4.0  58.0  94.0\n",
      "3   62.0   4.0  11.0\n",
      "4    NaN  60.0   NaN\n",
      "5    NaN  94.0  74.0\n",
      "6   12.0   NaN   NaN\n",
      "7   52.0  90.0  42.0\n",
      "8   55.0  96.0  17.0\n",
      "9   54.0  98.0   5.0\n",
      "10  70.0  87.0   8.0\n",
      "11   NaN  91.0  19.0\n",
      "12  92.0  86.0  23.0\n",
      "13   NaN  58.0  44.0\n",
      "14  53.0  66.0  61.0\n",
      "15  43.0  31.0  44.0\n",
      "16  19.0  37.0  90.0\n",
      "17  26.0   NaN  89.0\n",
      "18  81.0  73.0  54.0\n",
      "19  60.0  60.0  94.0\n",
      "       a          b          c\n",
      "0   34.0   3.000000  12.000000\n",
      "1   99.0  53.000000  51.000000\n",
      "2    4.0  58.000000  94.000000\n",
      "3   62.0   4.000000  11.000000\n",
      "4   51.0  60.000000  46.222222\n",
      "5   51.0  94.000000  74.000000\n",
      "6   12.0  63.611111  46.222222\n",
      "7   52.0  90.000000  42.000000\n",
      "8   55.0  96.000000  17.000000\n",
      "9   54.0  98.000000   5.000000\n",
      "10  70.0  87.000000   8.000000\n",
      "11  51.0  91.000000  19.000000\n",
      "12  92.0  86.000000  23.000000\n",
      "13  51.0  58.000000  44.000000\n",
      "14  53.0  66.000000  61.000000\n",
      "15  43.0  31.000000  44.000000\n",
      "16  19.0  37.000000  90.000000\n",
      "17  26.0  63.611111  89.000000\n",
      "18  81.0  73.000000  54.000000\n",
      "19  60.0  60.000000  94.000000\n",
      "       a     b     c\n",
      "0   34.0   3.0  12.0\n",
      "1   99.0  53.0  51.0\n",
      "2    4.0  58.0  94.0\n",
      "3   62.0   4.0  11.0\n",
      "7   52.0  90.0  42.0\n",
      "8   55.0  96.0  17.0\n",
      "9   54.0  98.0   5.0\n",
      "10  70.0  87.0   8.0\n",
      "12  92.0  86.0  23.0\n",
      "14  53.0  66.0  61.0\n",
      "15  43.0  31.0  44.0\n",
      "16  19.0  37.0  90.0\n",
      "18  81.0  73.0  54.0\n",
      "19  60.0  60.0  94.0\n"
     ]
    },
    {
     "name": "stderr",
     "output_type": "stream",
     "text": [
      "C:\\Users\\Camila\\AppData\\Local\\Temp\\ipykernel_8084\\2623525499.py:6: DeprecationWarning: This function is deprecated. Please call randint(0, 19 + 1) instead\n",
      "  filas_nan = np.random.random_integers(0, 19, size=10)\n"
     ]
    }
   ],
   "source": [
    "# 1. Crea un DataFrame con datos faltantes en algunas celdas.\n",
    "df = pd.DataFrame(np.random.randint(low=0, high=100, size=(20,3)), columns=['a', 'b', 'c']) \n",
    "#print(df)\n",
    "\n",
    "# Generar índices aleatorios de filas y columnas para asignar NaN\n",
    "filas_nan = np.random.random_integers(0, 19, size=10)\n",
    "columnas_nan = np.random.randint(0, 3, size=10)\n",
    "\n",
    "for fila, columna in zip(filas_nan, columnas_nan): \n",
    "    df.iloc[fila, columna] = np.nan\n",
    "print(df)\n",
    "\n",
    "# 2. Llena los valores faltantes con la media de la columna.\n",
    "df_cleaned = df.fillna(df.mean())\n",
    "print(df_cleaned)\n",
    "\n",
    "# 3. Elimina las filas que tengan más de 2 valores faltantes.\n",
    "df_cleaned = df.dropna(thresh=3) \n",
    "print(df_cleaned)"
   ]
  }
 ],
 "metadata": {
  "kernelspec": {
   "display_name": "work",
   "language": "python",
   "name": "python3"
  },
  "language_info": {
   "codemirror_mode": {
    "name": "ipython",
    "version": 3
   },
   "file_extension": ".py",
   "mimetype": "text/x-python",
   "name": "python",
   "nbconvert_exporter": "python",
   "pygments_lexer": "ipython3",
   "version": "3.9.18"
  }
 },
 "nbformat": 4,
 "nbformat_minor": 2
}
